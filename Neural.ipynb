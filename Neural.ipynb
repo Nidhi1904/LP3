{
 "cells": [
  {
   "cell_type": "code",
   "execution_count": null,
   "id": "9103a741",
   "metadata": {},
   "outputs": [],
   "source": [
    "import pandas as pd\n",
    "import numpy as np"
   ]
  },
  {
   "cell_type": "code",
   "execution_count": null,
   "id": "e2ba506a",
   "metadata": {},
   "outputs": [],
   "source": [
    "\n",
    "df=pd.read_csv('Churn_Modelling.csv')"
   ]
  },
  {
   "cell_type": "code",
   "execution_count": null,
   "id": "4e3040b8",
   "metadata": {},
   "outputs": [],
   "source": [
    "df"
   ]
  },
  {
   "cell_type": "code",
   "execution_count": null,
   "id": "8ca55f12",
   "metadata": {},
   "outputs": [],
   "source": [
    "\n",
    "df.isna().sum()"
   ]
  },
  {
   "cell_type": "code",
   "execution_count": null,
   "id": "24d594c9",
   "metadata": {},
   "outputs": [],
   "source": [
    "df.drop(columns=['RowNumber','CustomerId','Surname'],axis=1,inplace=True)"
   ]
  },
  {
   "cell_type": "code",
   "execution_count": null,
   "id": "34dc6673",
   "metadata": {},
   "outputs": [],
   "source": [
    "df\n"
   ]
  },
  {
   "cell_type": "code",
   "execution_count": null,
   "id": "97c2efeb",
   "metadata": {},
   "outputs": [],
   "source": [
    "gender=pd.get_dummies(df['Gender'])"
   ]
  },
  {
   "cell_type": "code",
   "execution_count": null,
   "id": "0fa26bf9",
   "metadata": {},
   "outputs": [],
   "source": [
    "geography=pd.get_dummies(df['Geography'])"
   ]
  },
  {
   "cell_type": "code",
   "execution_count": null,
   "id": "4c149cf8",
   "metadata": {},
   "outputs": [],
   "source": [
    "gender"
   ]
  },
  {
   "cell_type": "code",
   "execution_count": null,
   "id": "7f5f1075",
   "metadata": {},
   "outputs": [],
   "source": [
    "geography"
   ]
  },
  {
   "cell_type": "code",
   "execution_count": null,
   "id": "44dd8dcd",
   "metadata": {},
   "outputs": [],
   "source": [
    "df.drop(columns=['Gender','Geography'],inplace=True)"
   ]
  },
  {
   "cell_type": "code",
   "execution_count": null,
   "id": "97c1f9a8",
   "metadata": {},
   "outputs": [],
   "source": [
    "df"
   ]
  },
  {
   "cell_type": "code",
   "execution_count": null,
   "id": "548c670a",
   "metadata": {},
   "outputs": [],
   "source": [
    "df=pd.concat([df,gender,geography],axis=1)"
   ]
  },
  {
   "cell_type": "code",
   "execution_count": null,
   "id": "5ef004b6",
   "metadata": {},
   "outputs": [],
   "source": [
    "df"
   ]
  },
  {
   "cell_type": "code",
   "execution_count": null,
   "id": "ca4cc64d",
   "metadata": {},
   "outputs": [],
   "source": [
    "from sklearn.model_selection import train_test_split"
   ]
  },
  {
   "cell_type": "code",
   "execution_count": null,
   "id": "6ef413e5",
   "metadata": {},
   "outputs": [],
   "source": [
    "X=df.drop(['Exited'],axis=1)"
   ]
  },
  {
   "cell_type": "code",
   "execution_count": null,
   "id": "7e52eb10",
   "metadata": {},
   "outputs": [],
   "source": [
    "Y=df[['Exited']]"
   ]
  },
  {
   "cell_type": "code",
   "execution_count": null,
   "id": "163b94b6",
   "metadata": {},
   "outputs": [],
   "source": [
    "x_train,x_test,y_train,y_test=train_test_split(X,Y,test_size=0.4,random_state=0)"
   ]
  },
  {
   "cell_type": "code",
   "execution_count": null,
   "id": "a4a3b694",
   "metadata": {},
   "outputs": [],
   "source": [
    "from sklearn.preprocessing import StandardScaler\n",
    "sc=StandardScaler()"
   ]
  },
  {
   "cell_type": "code",
   "execution_count": null,
   "id": "35b31e1f",
   "metadata": {},
   "outputs": [],
   "source": [
    "x_train=sc.fit_transform(x_train)\n",
    "x_test=sc.fit_transform(x_test)"
   ]
  },
  {
   "cell_type": "code",
   "execution_count": null,
   "id": "876cc023",
   "metadata": {},
   "outputs": [],
   "source": [
    "from keras.models import Sequential\n",
    "from keras.layers import Dense"
   ]
  },
  {
   "cell_type": "code",
   "execution_count": null,
   "id": "669471d7",
   "metadata": {},
   "outputs": [],
   "source": [
    "seq=Sequential()"
   ]
  },
  {
   "cell_type": "code",
   "execution_count": null,
   "id": "d70adda5",
   "metadata": {},
   "outputs": [],
   "source": [
    "import seaborn as sns\n",
    "sns.countplot(x=df['Exited'])"
   ]
  },
  {
   "cell_type": "code",
   "execution_count": null,
   "id": "5fb0a02c",
   "metadata": {},
   "outputs": [],
   "source": [
    "seq.add(Dense(units=6,kernel_initializer='he_uniform',activation='relu',input_dim=13))"
   ]
  },
  {
   "cell_type": "code",
   "execution_count": null,
   "id": "c6b48944",
   "metadata": {},
   "outputs": [],
   "source": [
    "seq.add(Dense(units=6,kernel_initializer='he_uniform',activation='relu'))"
   ]
  },
  {
   "cell_type": "code",
   "execution_count": null,
   "id": "02f59f9b",
   "metadata": {},
   "outputs": [],
   "source": [
    "seq.add(Dense(units=1,kernel_initializer='glorot_uniform',activation='sigmoid'))"
   ]
  },
  {
   "cell_type": "code",
   "execution_count": null,
   "id": "0b166253",
   "metadata": {},
   "outputs": [],
   "source": [
    "seq.compile(optimizer='adam',loss='binary_crossentropy',metrics=['accuracy'])"
   ]
  },
  {
   "cell_type": "code",
   "execution_count": null,
   "id": "e949b40f",
   "metadata": {},
   "outputs": [],
   "source": [
    "model_history=seq.fit(x_train,y_train,batch_size=10,validation_split=0.33,epochs=50)"
   ]
  },
  {
   "cell_type": "code",
   "execution_count": null,
   "id": "0e726b13",
   "metadata": {},
   "outputs": [],
   "source": [
    "model_history.history.keys()"
   ]
  },
  {
   "cell_type": "code",
   "execution_count": null,
   "id": "3c3f4fd9",
   "metadata": {},
   "outputs": [],
   "source": [
    "import matplotlib.pyplot as plt"
   ]
  },
  {
   "cell_type": "code",
   "execution_count": null,
   "id": "be651b91",
   "metadata": {},
   "outputs": [],
   "source": [
    "plt.plot(model_history.history['accuracy'])\n",
    "plt.plot(model_history.history['val_accuracy'])"
   ]
  },
  {
   "cell_type": "code",
   "execution_count": null,
   "id": "a37e7179",
   "metadata": {},
   "outputs": [],
   "source": [
    "plt.plot(model_history.history['loss'])\n",
    "plt.plot(model_history.history['val_loss'])"
   ]
  },
  {
   "cell_type": "code",
   "execution_count": null,
   "id": "cb8199ed",
   "metadata": {},
   "outputs": [],
   "source": [
    "y_pred=seq.predict(sc.fit_transform(x_test))"
   ]
  },
  {
   "cell_type": "code",
   "execution_count": null,
   "id": "bfbd9cc3",
   "metadata": {},
   "outputs": [],
   "source": [
    "y_pred=y_pred>0.5\n",
    "y_pred"
   ]
  },
  {
   "cell_type": "code",
   "execution_count": null,
   "id": "564fb14e",
   "metadata": {},
   "outputs": [],
   "source": [
    "from sklearn.metrics import accuracy_score"
   ]
  },
  {
   "cell_type": "code",
   "execution_count": null,
   "id": "77526fc4",
   "metadata": {},
   "outputs": [],
   "source": [
    "accuracy_score(y_test,y_pred)*100"
   ]
  }
 ],
 "metadata": {
  "kernelspec": {
   "display_name": "Python 3",
   "language": "python",
   "name": "python3"
  },
  "language_info": {
   "codemirror_mode": {
    "name": "ipython",
    "version": 3
   },
   "file_extension": ".py",
   "mimetype": "text/x-python",
   "name": "python",
   "nbconvert_exporter": "python",
   "pygments_lexer": "ipython3",
   "version": "3.9.6"
  }
 },
 "nbformat": 4,
 "nbformat_minor": 5
}
